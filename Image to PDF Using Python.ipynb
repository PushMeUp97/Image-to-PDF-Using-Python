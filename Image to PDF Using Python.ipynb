{
 "cells": [
  {
   "cell_type": "code",
   "execution_count": 5,
   "id": "995a67a6-bae3-435c-88af-567cfdd2cadc",
   "metadata": {},
   "outputs": [],
   "source": [
    "from PIL import Image\n",
    "\n",
    "def images_to_pdf(filenames, output):\n",
    "    images = []\n",
    "    for file in filenames:\n",
    "        im = Image.open(file)\n",
    "        im = im.convert('RGB')\n",
    "        images.append(im)\n",
    "    \n",
    "    images[0].save(output, save_all=True, append_images=images[1:])\n",
    "\n",
    "# Images path, output pdf\n",
    "images_to_pdf([\"C:\\\\Users\\\\Locas\\\\Desktop\\\\FileTestCodex\\\\Image to PDF\\\\Test 01.png\", \"C:\\\\Users\\\\Locas\\\\Desktop\\\\FileTestCodex\\\\Image to PDF\\\\Test 01.jpg\"], \"output.pdf\")\n"
   ]
  }
 ],
 "metadata": {
  "kernelspec": {
   "display_name": "Python 3 (ipykernel)",
   "language": "python",
   "name": "python3"
  },
  "language_info": {
   "codemirror_mode": {
    "name": "ipython",
    "version": 3
   },
   "file_extension": ".py",
   "mimetype": "text/x-python",
   "name": "python",
   "nbconvert_exporter": "python",
   "pygments_lexer": "ipython3",
   "version": "3.12.6"
  }
 },
 "nbformat": 4,
 "nbformat_minor": 5
}
